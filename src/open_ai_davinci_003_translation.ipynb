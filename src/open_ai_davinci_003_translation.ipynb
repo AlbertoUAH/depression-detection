{
  "nbformat": 4,
  "nbformat_minor": 0,
  "metadata": {
    "colab": {
      "provenance": []
    },
    "kernelspec": {
      "name": "python3",
      "display_name": "Python 3"
    },
    "language_info": {
      "name": "python"
    }
  },
  "cells": [
    {
      "cell_type": "markdown",
      "source": [
        "# MentalRiskES Depression Classification - EDA"
      ],
      "metadata": {
        "id": "ZrGC6pewJFUa"
      }
    },
    {
      "cell_type": "markdown",
      "source": [
        "# OpenAI"
      ],
      "metadata": {
        "id": "9JFmXJp0kUgc"
      }
    },
    {
      "cell_type": "code",
      "source": [
        "train_df_2a = pd.read_csv('/content/drive/MyDrive/Personal/MentalRiskES 2023/data/train_data/train_data_cleaned/task_2a_cleaned_feature_engineering.csv', sep=';')\n",
        "trial_df_2a = pd.read_csv('/content/drive/MyDrive/Personal/MentalRiskES 2023/data/trial_data/trial_data_cleaned/task_2a_cleaned_feature_engineering.csv', sep=';')"
      ],
      "metadata": {
        "id": "gmDrGnvekVkH"
      },
      "execution_count": null,
      "outputs": []
    },
    {
      "cell_type": "code",
      "source": [
        "train_subjects = list(train_df_2a['user_id'].unique())\n",
        "trial_subjects = list(trial_df_2a['user_id'].unique())"
      ],
      "metadata": {
        "id": "oDJQWJ65kzFu"
      },
      "execution_count": null,
      "outputs": []
    },
    {
      "cell_type": "markdown",
      "source": [
        "### Detección de entidades relacionadas con depresión"
      ],
      "metadata": {
        "id": "n-sy4EkSsh6-"
      }
    },
    {
      "cell_type": "code",
      "source": [
        "PROMPT_TEMPLATE = \"\"\"\n",
        "Convert the following list of messages into a single text in English, in monologue format, in a fluid and coherent way.\n",
        "\n",
        "List of messages:\n",
        "\n",
        "\"\"\""
      ],
      "metadata": {
        "id": "DaaB0mSrsl2h"
      },
      "execution_count": null,
      "outputs": []
    },
    {
      "cell_type": "code",
      "source": [
        "def classify(text):\n",
        "    # build prompt with template and input\n",
        "    prompt = f\"{PROMPT_TEMPLATE}\\n{text}\\n\"\n",
        "    # use create completion template\n",
        "    completion = openai.Completion.create(\n",
        "      model=\"text-davinci-003\",\n",
        "      prompt=prompt,\n",
        "      temperature=0,\n",
        "      max_tokens=512\n",
        "    )\n",
        "    # get first choice text\n",
        "    json_response = completion[\"choices\"][0][\"text\"].strip()\n",
        "\n",
        "    return json_response"
      ],
      "metadata": {
        "id": "WbirMNEklYmn"
      },
      "execution_count": null,
      "outputs": []
    },
    {
      "cell_type": "code",
      "source": [
        "train_messages_joined = {}"
      ],
      "metadata": {
        "id": "Iiwbr3fio21e"
      },
      "execution_count": null,
      "outputs": []
    },
    {
      "cell_type": "code",
      "source": [
        "for subject in tqdm(train_subjects):\n",
        "  if subject not in train_messages_joined.keys():\n",
        "    try:\n",
        "      text = '. '.join([str(text) for text in train_df_2a[train_df_2a['user_id'] == subject]['message_without_emojis'] if re.search('[a-zA-Z]+', str(text))])\n",
        "      text = re.sub(r\"INI_HASHTAG [a-zA-Z0-9 ]+ END_HASHTAG\", \"\", text)\n",
        "      text_output = classify(text)\n",
        "      train_messages_joined[subject] = text_output\n",
        "    except Exception as e:\n",
        "      print(e)\n",
        "      print(text)\n",
        "      print(\"#\" * 80)\n",
        "      continue"
      ],
      "metadata": {
        "colab": {
          "base_uri": "https://localhost:8080/"
        },
        "id": "B5937RM6kxs0",
        "outputId": "1288ab54-9079-4cd4-f159-6dbad962429c"
      },
      "execution_count": null,
      "outputs": [
        {
          "output_type": "stream",
          "name": "stderr",
          "text": [
            "100%|██████████| 175/175 [00:00<00:00, 1109.21it/s]"
          ]
        },
        {
          "output_type": "stream",
          "name": "stdout",
          "text": [
            "This model's maximum context length is 4097 tokens, however you requested 7193 tokens (6681 in your prompt; 512 for the completion). Please reduce your prompt; or completion length.\n",
            "que es lo que mas te gusta hacer ?. la verdad que son excelentes. que quieres expresar tu ?. la verdad que la sugerencia de NN es bastante buena para que te expreses tu. porque no comienzas con una maque a lápiz o creyón y luego vas viendo. que quieres saber , porque si te cuento de mi pasaremos largo tiempo jajajaja. a ver , tengo 47 años , dirijo una fundación que apoya a personas rehabilitadas de adicciones , tengo una pareja hermosa que cumple años hoy , he pasado momentos difíciles , pero también tengo momentos maravillosos como este que paso conversando con ustedes. gracias , es un placer conversar con ustedes. Se llama FUNDASILVA y estamos en Caracas , Venezuela. como te va por allá ?. cada día mejor , mas allá de la situación económica , política y social , mientras me levante cada día y vea brillar el sol o caer la lluvia , pueda sentir la brisa fresca , vea la sonrisa de la mujer que amo , comparta con mis hermano y pueda tener una buena conversación con personas como tu , para mi es un día excelente. hola como has estado ?. Esa persona que buscas solo la puedes encontrar dentro de ti. Que es morir ? No es más que la continuación de la vida . Que es vivir ? Es la respuesta que deberíamos buscar , aprender a vivir , a disfrutar de los detalles de la vida , disfrutar de este tiempo que llamamos vida . Porque morir en vida ? O Porque vivir en la muerte ? Deseamos tanto morir o en realidad solo tememos vivir . Buscamos desesperadamente a alguien que nos acompañe , no sería mejor encontrar nuestra propia compañía ? Quizás sería mejor encontrar a alguien que quiera compartir nuestra compañía . Sufrimos deprimidos por no ver más allá de ése sufrimiento y no nos damos cuenta que tenemos mucha gente acompañándonos. Precisamente todo comienza por aceptarte tal como eres , eres la persona más importante , eres perfecto lleno de cualidades y también de defectos , busca todo eso dentro de tí y acepatalo. No me parece que les cueste tanto socializar , aquí lo hacen . Y eso no sería como pertenecer a un determinado grupo ? O Etiquetarse de alguna manera ?. La verdad que sí y como en este hermoso grupo , hay gente alrededor de nosotros que también es así. Les deseo un excelente y maravilloso día lleno de bendiciones y logros , ustedes son los más importantes. te agradezco por ver en el mundo lo hermoso que es y lo hermoso de que hay personas como tu. mama me das permiso para salir ?. Abandono ... A todos nos abandonaron un día . Y cuando digo abandonar , no me refiero sólo a un acto extraordinario o traumático del pasado . Es más simple , pero duele igual . A todos nos abandonaron en el medio de un bullicio . En el inicio de un proyecto . En el placer del logro cumplido . En el momento menos pensado . En el momento más esperado . A veces pasa , que te das vuelta y no tienes quien te limpie las lágrimas , quien te de una palmada en la espalda , quien te guiñe el ojo cuando algo te salió bien y quien te limpie las rodillas si llegas a caer al pasto . Todos sabemos de la soledad que se siente cuando nos sentimos solos . Porque todos fuimos abandonados un día . Y entonces , encontramos un secreto tristísimo , un acto paliativo , para tapar ese pozo . Vemos gente que se come la angustia tragándose un paquete de cigarrillos , el otro que corre y corre como un loco a ver si el viento en la cara le vuela ese agujero en el pecho . Personas que se comen las uñas junto con los nervios y la ansiedad paralizante . Paquetes de galletitas que van a parar a la boca sin noción de que lo que se intenta matar , no es el hambre . O por lo menos , no ese . Niños que se perforan la nariz y las venas , con alguna que otra cosa que lo pase a otra realidad por un par de horas . El otro se pone a jugar lo que no tiene . Tú comprarás compulsivamente cosas que no necesitas , para sentirte un poco vivo por un instante . Y yo me quedaré mirando una película , que me habilita disimuladamente a llorar mirando afuera , lo que no tengo ganas de mirar adentro . Es que somos tan jodidos con nosotros mismos que cuando peor estamos , es cuando más nos castigamos . Porque todo eso que te comes , te come a ti . Te pone peor . Te suma al abandono , la culpa de hacer algo que sabés que no es genuino . Que no es lo que quieres . No comes así por hambre . No te intoxicas por placer . No te acuestas con esa mujer por amor . Tapas . Escondes . Tiras abajo de la alfombra . Cierras los ojos . Te pones un bozal y un par de auriculares para no escuchar tu corazón . Date cuenta . Te estás comiendo a ti . Y quizá , el secreto esté en frenar . En sentir . En recordar , que en ese abandono lo que te falta , es lo que tienes que buscar : amor . Quizá sea hora de pedir ese abrazo . De acostarte en las rodillas de tu mamá . De poner la cara y llamar diciendo , sí , te juro que te necesito . Es ahora . Después no . Ahora . Anda a esa casa . Habla con quién te escucha . Llora , grita , di , pide y da . ¡ Ahora ! Hacer malabares , en medio del desvorlote , no tiene más que un resultado . Resultado que no va a curar la herida que te sangra , porque le estás tapando con un curita . Y las curitas no curan . Las curitas tapan . Y tú sabes muy bien que el dolor tapado no es dolor sanado . Para un poquito . Mira en el espejo de tu alma . Frena . Mira lo que te falta y sal a buscarlo en dónde creas que lo puedas encontrar de verdad . No revolotees como mosca en platos vacíos . Pide lo que necesitas si ves que solo no puedes . Porque no hay peor abandono que el que se hace a uno mismo . Con eso no se juega . No tienes derecho . Autoría : Lorena Pronsky ACLARACIÓN : donde dice : desvorlote , corresponde : despelote ( caos , confusión , desorden ) . Perdón por no arreglarlo antes .. Hoy fue un día especial , fue una mañana fresca y soleada , bello comenzar de un domingo , fue especial porque estoy vivo para ver este hermoso día , fue especial por me quiero y te quiero , fue especial por qué mañana también será especial. ¿ QUÉ ES LA SOLEDAD ? La palabra \" Sol-Edad \" significa : \" La Edad para estar con tu Sol interno \" . En esta vida son necesarias esas etapas de soledad , pues , nos permiten conectarnos con nosotros mismos , con nuestra multidimensionalidad , que te lleva a todas las dimensiones . Socialmente nos han inyectado miedo a estos procesos en la que andamos sin compañía , pensando que eso debe ser importante para llenarnos Sin embargo son momentos únicos y realmente hermosos de autodescubrimiento de tu COMPLETITUD ... para después , si es así el camino de tu alma , encontrarte con otra persona para compartir completitudes . Nunca te ha faltado nada , por que siempre has estado completo , solo debes redescubrirte y encontrar esa escencia tan dulce y sutil que te hace tan bello o bella .. Cuando ya no te inquiete lo que pase contigo . Cuando te quede claro que está vida es un juego . Cuando a aquel que te agravia no lo veas enemigo . Cuando ya no le busques distracciones al ego . Cuando por igual trates al triunfo y la derrota . Y entiendas que las cosas no son lo que aparentan . Cuando igualmente aprecies la flor que no se nota . Y los bellos jardines que a veces se presentan . Cuando mires al mundo lleno de compasión por aquellos hermanos que han elegido el drama . Pero a la vez comprendas , que al abrirse el telón , son solamente actores de una infinita trama . Cuando ya no te tomes ninguna cosa en serio . Cuando no te interese ni ser juez … ni ser parte . Cuando poses tus ojos de lleno en el misterio , y sientas que no hay nada que pueda lastimarte . Y ya no te preocupe abandonar tu traje con ese desapego del que a nada se aferra … celebrare tu vida , compañero de viaje … , bendito Ángel Humano caminando la Tierra . Luz en tu camino .. Buen día , hoy es un día especial . Hace un bello sol radiante aquí en Caracas , además estoy vivo y me amo , siento que la vida recorre mi cuerpo y hoy va a ser el mejor día de mi vida , gracias a Dios y a ustedes por estar ahí . Les deseo tengan un maravilloso día como el mío. Buenos días gente buena les deseo lo mejor para este dia. Buen día mi nombre es Guillermo , tengo 48 años el próximo 12 de diciembre cumpliré 49 años , hace 10 años decidí dejar de consumir sustancias ilícitas , antes sentía que no valía nada y mi vida era una porquería , lo había dejado todo porque quería vivir anestesiado , tratando de conseguir una felicidad efímera , momentánea que solo duraba un momento , me estaba matando poco a poco y creía que eso me hacía feliz , hoy día tengo problemas que se convierten en metas , no tengo casa propia , pero vivo con mi familia , algo disfuncionales pero aprendí a quererlos como son , mi anterior pareja , la cual quiero mucho viajo fuera del país y eso trajo más que nuestra separación física la separación espiritual , me duele mucho , pero tengo que aceptarlo , hoy día Dios puso en mi camino una hermosa mujer la cual tiene muchas cualidades y aptitudes que me hacen sentir bien y enamorarme de ella cada día , tengo un hijo de 19 años que hace 2 no veo eso me entristece , pero seguro volveremos a estar juntos , tengo dos trabajos , que mas que trabajo es mi propósito de vida donde apoyo a adolescentes y adultos a ver la vida desde otro punto de vista y dejar las adicciones , con todo esto tengo 2 opciones , morir cada día pensando que mi vida es una mierda o ver lo bueno que tengo y ser feliz cada día para disfrutar de cada amanecer e irme a dormir dando gracias por un día mas. A la orden , es bueno apoyar me hace sentir vivo y también que hay personas que pasan por momentos que pueden ser peores que los míos , pero están dispuestos a salir adelante. Quizás no has encontrado la forma de darte compañía a ti mismo , yo muchas veces me sentí y me he sentido así , aprovecho esos momentos de soledad para meditar sobre mi vida y valorar las pocas o muchas cosas que tengo. Veo por otro lado que si estoy con muchas personas y me siento solo es porque esas personas no están conmigo y en parte es porque no le doy acceso a mi vida. He aprendido , a veces de la forma difícil , que todo depende de la disposición que yo tenga para abrirme y mostrarme al mundo , sin perder quien soy y cuáles son mis objetivos . Quizás no es la soledad en sí misma lo que molesta , sino el no querer compañía o que la compañía nos moleste , puede pasar que no nos agrade el lugar , el hambiente o las personas , en ese sentido tenemos 2 opciones : 1 ) encontrar un lugar donde estemos agradables y 2 ) hacer agradable el lugar donde estamos. Espero humildemente poder apoyarte con mis sugerencias. Exacto ! . También está el hecho de que tampoco tienes que demostrarle nada a nadie , eres una persona muy especial , única e irrepetible , lo pienso debes preguntarte es : que realmente quieres tu ? Al final tu eres la persona más importante y lo que tu desees o decidas será lo mas importante. \" Un torbellino no dura toda la mañana , un aguacero no dura todo el día . ¿ Quién los produce ? El cielo y la tierra . ¿ Si los fenómenos del cielo y la tierra no son durables , cómo podrían serlo las acciones humanas ? \" ( Philosophes Taoïstes , Laozi 1980 , p . 26 ) .. No intententes disfruta de tu día , hoy es un día lleno de oportunidades para ser feliz. 13 consejos para aquellos que están experimentando tiempos difíciles . Siddhartha Gautama , o Buda , nos dejó un legado de gran sabiduría . Entre tantas , 13 consejos para aquellos que están experimentando tiempos difíciles . Hay , según Buda , una manera de vivir estos momentos de una manera más tranquila y el secreto tiene que ver con la actitud : 1 ) Las cosas son lo que son Nuestra resistencia a las cosas es la principal causa de nuestro sufrimiento . Esto sucede cuando nos resistimos a las cosas como son . Si no puedes hacer nada , relajarte . No luches contra la corriente , aceptalo o de lo contrario serás consumido en el sufrimiento . 2 ) Si crees que tienes un problema , tienes un problema Ten en cuenta que todo lo que se ve a través de una perspectiva . En un determinado momento las cosas parecen difíciles , en otros no . Sabiendo esto , cuando tengas una dificultad escoge entenderla como un reto , una oportunidad de aprendizaje . Si lo ves como un problema , esta dificultad será sin duda un problema . 3 ) El cambio comienza en ti mismo Su mundo exterior es un reflejo de su mundo interior . Tenemos la costumbre de pensar que todo estará bien cuando las circunstancias cambian . La verdad , sin embargo , es que las circunstancias cambiarán sólo cuando se produce este cambio dentro de nosotros . 4 ) No hay mayor aprendizaje que equivocarse El fracaso no existe ! ! ! Entiende esto de una vez por todas . Todas las personas exitosas han fracasado varias veces . Disfruta de tus fracasos como una gran experiencia de aprendizaje . Si lo haces , la próxima vez estarás más cerca del éxito . El fracaso es siempre una lección de aprendizaje . 5 ) Si algo no sucede como estaba previsto , significa que lo mejor está por llegar Todo sucede a la perfección , incluso cuando las cosas van mal . A menudo , cuando miramos hacia atrás , nos damos cuenta de que lo que consideramos malo , de hecho , fue lo mejor que pudo haber pasado . Sin embargo , cuando funciona , sin duda estamos alineados con nuestro propósito de vida . El universo siempre trabaja a nuestro favor . 6 ) Aprecia el presente Sólo tenemos el momento presente ! Así que no lo dejes ir perdiendo el tiempo con el pasado . Apreciar tu momento presente , ya que es lo único importante . Es a partir de el cuando crea que su vida futura . 7 ) Deja el deseo de lado La mayoría de la gente vive la vida guiada por los deseos . Esto es extremadamente peligroso , un deseo no satisfecho se convierte en una gran frustración . La frustración desencadena una fuerte energía negativa y se retrae su crecimiento . Trata de entender que todo lo que necesita vendrá a ti para cultivar su felicidad incondicional . 8) Comprende tus miedos y sé agradecido El miedo es lo contrario del amor y es otra cosa que dificulta tu desarrollo . Sin embargo es importante , ya que proporciona una gran oportunidad para el aprendizaje . Cuando se vence el miedo , se vuelve más fuerte y confiado . Superar sus miedos requiere práctica , el miedo es sólo una ilusión y , sobre todo , es opcional . 9 ) Experimenta alegría Hay personas que disfrutan de todo lo que les sucede a ellos . Incluso en la peor situación , hay que reírse de sí mismos . Ellos son personas que ven el crecimiento en todo . Estas personas aprendieron que es importante centrarse en la alegría , no en las dificultades . El resultado es que atraen a situaciones mucho más felices que tristes . 10 ) Nunca te compares con los demás Sólo se vino aquí con una misión propia . Y es tan importante como cualquier otra persona . Sin embargo , si no puedes evitar comparaciones , compararte con los que tienen menos que tú . Esta es una gran estrategia para darse cuenta de que siempre has tenido mucho más de lo que necesitas para ser feliz . 11 ) No eres una víctima Siempre eres el creador de tu experiencia . Todo lo que te sucede es atraído por ti mismo y extremadamente necesario para tu aprendizaje . Cuando algo desagradable te suceda , da gracias y pregunta : “ ¿ Por qué he atraído eso a mi vida ? ” , “ ¿ Qué necesito para aprender de esta experiencia ? ” .. Sople como sople el viento , vaya como vaya el mundo , ¡ a mí me va bien ! . Anónimo taoísta. El cuento de BUDA y el hombre que le escupió en la cara : En una ocasión un hombre vino a Buda y le escupió en la cara . Sus discípulos , por supuesto estaban enfurecidos . Ananda el discípulo más cercano , dirigiéndose a Buda dijo : ¡ Esto pasa de la raya ! Y estaba rojo de irá y prosiguió : ¡ Dame permiso ! ¡ Para que le enseñe a éste hombre lo que acaba de hacer ! Buda se limpió la cara y le dijo al hombre : GRACIAS , GRACIAS , GRACIAS . Has creado , una situación , un contexto , en el que he podido comprobar sí todavía puede invadirme la irá o no , y No puede , y te estoy tremendamente agradecido porque también has creado un contexto para mis discípulos , principalmente para Ananda mi discípulo más cercano . Esto le permite ver que todavía puede invadirle la irá ¡ Muchas gracias ! ¡ Te estamos muy agradecidos ! Y siempre estás invitado a venir . Por favor , siempre que sientas el imperioso deseo de escupirle a alguien puedes venir con nosotros . Fue una conmoción tal para aquel hombre … No podía dar crédito a sus oídos , no podía creer lo que estaba sucediendo , había venido a provocar la irá de Buda , y había fracasado . Aquella noche no pudo dormir , estuvo dando vueltas en la cama , los pensamientos le perseguían continuamente : El escupir a Buda , una de las cosas más insultantes , y que el Buda permaneciera tan sereno tan en calma como lo había estado antes , como sí no hubiera pasado nada … El que Buda se limpiara la cara y dijera : “ GRACIAS , GRACIAS , GRACIAS , cuando sientas ganas de escupir a alguien , por favor ven a nosotros ” , se acordaba una y otra vez … Aquella cara tranquila , serena , aquellos ojos compasivos , y cuando Buda le dio las gracias , no fue una formalidad , le estaba verdaderamente agradecido , todo su ser le decía que estaba agradecido , Buda desprendía una atmósfera de agradecimiento . A la mañana siguiente muy temprano , volvió precipitado , se postró a los pies de Buda y dijo : Por favor perdóname maestro , no he podido dormir en toda la noche . Buda respondió , no tiene la menor importancia , no pidas perdón por algo que ya no tiene existencia . ¡ Ha pasado tanta agua por el río Ganges ! Mira ¡ Discurre tanta agua a cada momento ! Han pasado 24 horas , por qué cargas con algo que ya no existe , ¡ no pienses más en ello ! Y además , yo no te puedo perdonar , porque en primer lugar nunca llegue a enojarme contigo , si me hubiera enojado te podría perdonar , guarda la experiencia y aprende profundamente de estos hechos y del agradecimiento . Sé agradecido con todos , AGRADECE , AGRADECE , AGRADECE con aquellos que te han ayudado , con aquellos que te han puesto obstáculos , ellos son verdaderos maestros , todo lo que te disgusta refleja tu EGO … Todos los que han sido indiferentes contigo . Sé agradecido con todos , porque todos juntos están creando el contexto en el que nacen los budas , en el que tu puedes convertirte en Buda . El mundo esta contribuyendo a crear la situación para que tu te transformes , tus amigos , tus enemigos , la buena y la mala gente , las circunstancias desfavorables o favorables … Todo este Tao ( camino o enseñanza ) esta creando el contexto en el que puedes iluminarte y convertirte en Buda . Sé agradecido con todo . YOSOY ! Dey.contigoficial . . .                              \n",
            "################################################################################\n"
          ]
        },
        {
          "output_type": "stream",
          "name": "stderr",
          "text": [
            "\n"
          ]
        }
      ]
    },
    {
      "cell_type": "code",
      "source": [
        "trial_messages_joined = {}"
      ],
      "metadata": {
        "id": "4Lt97X5H_Zin"
      },
      "execution_count": null,
      "outputs": []
    },
    {
      "cell_type": "code",
      "source": [
        "for subject in tqdm(trial_subjects):\n",
        "  if subject not in trial_messages_joined.keys():\n",
        "    try:\n",
        "      text = '. '.join([text for text in trial_df_2a[trial_df_2a['user_id'] == subject]['message_without_emojis'] if re.search('[a-zA-Z]+', text)])\n",
        "      text_output = classify(text)\n",
        "      trial_messages_joined[subject] = text_output\n",
        "    except Exception as e:\n",
        "      print(e)\n",
        "      print(text)\n",
        "      print(\"#\" * 80)\n",
        "      continue"
      ],
      "metadata": {
        "colab": {
          "base_uri": "https://localhost:8080/"
        },
        "id": "iTbvsAdI_YJv",
        "outputId": "4489c8c7-09f7-4eb8-bbb4-d70d399de471"
      },
      "execution_count": null,
      "outputs": [
        {
          "output_type": "stream",
          "name": "stderr",
          "text": [
            "100%|██████████| 10/10 [01:20<00:00,  8.01s/it]\n"
          ]
        }
      ]
    },
    {
      "cell_type": "code",
      "source": [
        "len(train_messages_joined.keys()), len(trial_messages_joined.keys())"
      ],
      "metadata": {
        "colab": {
          "base_uri": "https://localhost:8080/"
        },
        "id": "lqPt5d9al-br",
        "outputId": "7ca2dda5-c01e-48bd-ea49-2e4494df4160"
      },
      "execution_count": null,
      "outputs": [
        {
          "output_type": "execute_result",
          "data": {
            "text/plain": [
              "(174, 10)"
            ]
          },
          "metadata": {},
          "execution_count": 66
        }
      ]
    }
  ]
}